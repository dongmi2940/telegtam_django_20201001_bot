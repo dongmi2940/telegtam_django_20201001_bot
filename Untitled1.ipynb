{
 "cells": [
  {
   "cell_type": "code",
   "execution_count": 1,
   "metadata": {},
   "outputs": [],
   "source": [
    "# pip requests beautifulsoup4"
   ]
  },
  {
   "cell_type": "code",
   "execution_count": 2,
   "metadata": {},
   "outputs": [],
   "source": [
    "import requests \n",
    "from bs4 import BeautifulSoup"
   ]
  },
  {
   "cell_type": "code",
   "execution_count": 4,
   "metadata": {},
   "outputs": [
    {
     "data": {
      "text/plain": [
       "<Response [200]>"
      ]
     },
     "execution_count": 4,
     "metadata": {},
     "output_type": "execute_result"
    }
   ],
   "source": [
    "url = \"https://news.naver.com/main/ranking/read.nhn?mid=etc&sid1=111&rankingType=popular_day&oid=018&aid=0004748360&date=20200928&type=1&rankingSeq=2&rankingSectionId=105\"\n",
    "\n",
    "headers = {\n",
    "    'User-Agent': 'Mozilla/5.0 (Windows NT 10.0; Win64; x64) AppleWebKit/537.36 (KHTML, like Gecko) Chrome/85.0.4183.121 Safari/537.36',\n",
    "}\n",
    "\n",
    "res = requests.get(url, headers=headers)\n",
    "res"
   ]
  },
  {
   "cell_type": "code",
   "execution_count": 6,
   "metadata": {},
   "outputs": [],
   "source": [
    "html = res.text\n",
    "soup = BeautifulSoup(html, 'html.parser')"
   ]
  },
  {
   "cell_type": "code",
   "execution_count": 7,
   "metadata": {},
   "outputs": [
    {
     "data": {
      "text/plain": [
       "[]"
      ]
     },
     "execution_count": 7,
     "metadata": {},
     "output_type": "execute_result"
    }
   ],
   "source": [
    "#soup.select('#right.ranking_contents')\n",
    "#open('test.html', 'wt').write(html)"
   ]
  },
  {
   "cell_type": "code",
   "execution_count": 8,
   "metadata": {},
   "outputs": [
    {
     "data": {
      "text/plain": [
       "113884"
      ]
     },
     "execution_count": 8,
     "metadata": {},
     "output_type": "execute_result"
    }
   ],
   "source": [
    "open('test.html', 'wt').write(html)"
   ]
  },
  {
   "cell_type": "code",
   "execution_count": 12,
   "metadata": {},
   "outputs": [],
   "source": [
    "posts = [\n",
    "    {'title' : '삼시세끼·윤식당에 효리네 민박까지…뜨면 다 베끼는 中방송국', 'content':'내용'},\n",
    "    {'title' : '통신비 2만원 지급, \"여기서\" 확인하세요', 'content':'내용'},\n",
    "]"
   ]
  },
  {
   "cell_type": "code",
   "execution_count": null,
   "metadata": {},
   "outputs": [],
   "source": []
  },
  {
   "cell_type": "code",
   "execution_count": 15,
   "metadata": {},
   "outputs": [],
   "source": [
    "import os \n",
    "os.environ['DJANGO_SETTINGS_MODULE'] = 'telegram_django_bot.settings'\n",
    "\n",
    "import django\n",
    "django.setup()"
   ]
  },
  {
   "cell_type": "code",
   "execution_count": 16,
   "metadata": {},
   "outputs": [],
   "source": [
    "from blog.models import Post"
   ]
  },
  {
   "cell_type": "code",
   "execution_count": null,
   "metadata": {},
   "outputs": [],
   "source": [
    "#Post post = new Post();\n",
    "\n",
    "#post = Post(title='', content='')\n",
    "#post_list.append(post)\n",
    "\n",
    "#post.save()\n",
    "#Post.objects.bulk_create(post_list, bulk_size=1000)"
   ]
  },
  {
   "cell_type": "code",
   "execution_count": 17,
   "metadata": {},
   "outputs": [
    {
     "data": {
      "text/plain": [
       "[{'title': '삼시세끼·윤식당에 효리네 민박까지…뜨면 다 베끼는 中방송국', 'content': '내용'},\n",
       " {'title': '통신비 2만원 지급, \"여기서\" 확인하세요', 'content': '내용'}]"
      ]
     },
     "execution_count": 17,
     "metadata": {},
     "output_type": "execute_result"
    }
   ],
   "source": [
    "#1안 \n",
    "#post_list = []\n",
    "\n",
    "#for post_dict in posts:\n",
    "#    post = Post(title = post_dict['title'], content=post_dict['content'])\n",
    "#    post_list.append(post)\n",
    "\n",
    "#    post_list"
   ]
  },
  {
   "cell_type": "code",
   "execution_count": 19,
   "metadata": {},
   "outputs": [
    {
     "data": {
      "text/plain": [
       "[<Post: Post object (None)>, <Post: Post object (None)>]"
      ]
     },
     "execution_count": 19,
     "metadata": {},
     "output_type": "execute_result"
    }
   ],
   "source": [
    "#2안\n",
    "#post_list = []\n",
    "\n",
    "#for post_dict in posts:\n",
    "#    post = Post(**post_dict) #unpack\n",
    "#    post_list.append(post)\n",
    "\n",
    "#post_list"
   ]
  },
  {
   "cell_type": "code",
   "execution_count": 20,
   "metadata": {},
   "outputs": [
    {
     "data": {
      "text/plain": [
       "[<Post: Post object (None)>, <Post: Post object (None)>]"
      ]
     },
     "execution_count": 20,
     "metadata": {},
     "output_type": "execute_result"
    }
   ],
   "source": [
    "#3안\n",
    "post_list = [\n",
    "    Post(**post_dict) \n",
    "    for post_dict in posts] #list comprehension\n",
    "\n",
    "post_list"
   ]
  },
  {
   "cell_type": "code",
   "execution_count": 22,
   "metadata": {},
   "outputs": [
    {
     "data": {
      "text/plain": [
       "[<Post: Post object (None)>, <Post: Post object (None)>]"
      ]
     },
     "execution_count": 22,
     "metadata": {},
     "output_type": "execute_result"
    }
   ],
   "source": [
    "Post.objects.bulk_create(post_list)"
   ]
  },
  {
   "cell_type": "code",
   "execution_count": 24,
   "metadata": {},
   "outputs": [],
   "source": [
    "post = Post.objects.get(id=1)\n",
    "post.title = 'blah blah'\n",
    "post.save()"
   ]
  },
  {
   "cell_type": "code",
   "execution_count": 3,
   "metadata": {},
   "outputs": [],
   "source": [
    "import requests\n",
    "from bs4 import BeautifulSoup"
   ]
  },
  {
   "cell_type": "code",
   "execution_count": 16,
   "metadata": {},
   "outputs": [
    {
     "data": {
      "text/plain": [
       "160"
      ]
     },
     "execution_count": 16,
     "metadata": {},
     "output_type": "execute_result"
    }
   ],
   "source": [
    "url = 'https://zum.com/'\n",
    "\n",
    "res = requests.get(url)\n",
    "html = res.text\n",
    "soup = BeautifulSoup(html, 'html.parser')\n",
    "keyword_list = [tag.text for tag in soup.select('.rank_list .keyword')]\n",
    "len(keyword_list)"
   ]
  },
  {
   "cell_type": "code",
   "execution_count": 17,
   "metadata": {},
   "outputs": [],
   "source": [
    "new_keyword_list = []"
   ]
  },
  {
   "cell_type": "code",
   "execution_count": 19,
   "metadata": {},
   "outputs": [
    {
     "data": {
      "text/plain": [
       "['추석 인사말',\n",
       " '류이서',\n",
       " '씨유메디칼',\n",
       " '빙그레',\n",
       " '서면 음주운전',\n",
       " '진매트릭스',\n",
       " '소상공인 새희망자금신청',\n",
       " '초아',\n",
       " '이두희',\n",
       " '임영웅',\n",
       " '너울성 파도',\n",
       " '코로나',\n",
       " '송가인',\n",
       " '김호중',\n",
       " '국일제지',\n",
       " '새희망자금홈페이지',\n",
       " 'gv70',\n",
       " '이혜경',\n",
       " '카카오게임즈',\n",
       " '추석 일러스트']"
      ]
     },
     "execution_count": 19,
     "metadata": {},
     "output_type": "execute_result"
    }
   ],
   "source": [
    "#정말 냄새나는 코드 \n",
    "for keyword in keyword_list:\n",
    "    if keyword not in new_keyword_list:\n",
    "        new_keyword_list.append(keyword)\n",
    "\n",
    "new_keyword_list"
   ]
  },
  {
   "cell_type": "code",
   "execution_count": null,
   "metadata": {},
   "outputs": [],
   "source": []
  }
 ],
 "metadata": {
  "kernelspec": {
   "display_name": "Python 3",
   "language": "python",
   "name": "python3"
  },
  "language_info": {
   "codemirror_mode": {
    "name": "ipython",
    "version": 3
   },
   "file_extension": ".py",
   "mimetype": "text/x-python",
   "name": "python",
   "nbconvert_exporter": "python",
   "pygments_lexer": "ipython3",
   "version": "3.7.3"
  }
 },
 "nbformat": 4,
 "nbformat_minor": 2
}
